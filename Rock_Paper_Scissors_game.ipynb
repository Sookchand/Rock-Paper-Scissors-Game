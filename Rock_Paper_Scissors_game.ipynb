{
  "nbformat": 4,
  "nbformat_minor": 0,
  "metadata": {
    "colab": {
      "provenance": []
    },
    "kernelspec": {
      "name": "python3",
      "display_name": "Python 3"
    },
    "language_info": {
      "name": "python"
    }
  },
  "cells": [
    {
      "cell_type": "code",
      "execution_count": 22,
      "metadata": {
        "colab": {
          "base_uri": "https://localhost:8080/"
        },
        "id": "7Att7xz5ofaG",
        "outputId": "fec49d4d-dfe6-449c-8ef6-0512c68c99ab"
      },
      "outputs": [
        {
          "output_type": "stream",
          "name": "stdout",
          "text": [
            " What do you choose? Type 0 for Rock, 1 for Paper or 2 for Scissors: \n",
            "2\n",
            "\n",
            "    _______\n",
            "---'   ____)\n",
            "      (_____)\n",
            "      (_____)\n",
            "      (____)\n",
            "---.__(___)\n",
            " \n",
            "Computer choice: \n",
            "\n",
            "    _______\n",
            "---'   ____)____\n",
            "          ______)\n",
            "       __________)\n",
            "      (____)\n",
            "---.__(___)\n",
            "\n",
            "You lose\n",
            "1\n"
          ]
        }
      ],
      "source": [
        "rock = '''\n",
        "    _______\n",
        "---'   ____)\n",
        "      (_____)\n",
        "      (_____)\n",
        "      (____)\n",
        "---.__(___)\n",
        "'''\n",
        "\n",
        "paper = '''\n",
        "    _______\n",
        "---'   ____)____\n",
        "          ______)\n",
        "          _______)\n",
        "         _______)\n",
        "---.__________)\n",
        "'''\n",
        "\n",
        "scissors = '''\n",
        "    _______\n",
        "---'   ____)____\n",
        "          ______)\n",
        "       __________)\n",
        "      (____)\n",
        "---.__(___)\n",
        "'''\n",
        "\n",
        "# Three rules:\n",
        "\n",
        "# 1. Rock wins against scissors.\n",
        "# 2. Scissors win against paper.\n",
        "# 3.Paper wins against rock.\n",
        "\n",
        "#Write your code below this line 👇\n",
        "\n",
        "# Three rules:\n",
        "\n",
        "# 1. Rock wins against scissors.\n",
        "# 2. Scissors win against paper.\n",
        "# 3.Paper wins against rock.\n",
        "\n",
        "#Write your code below this line 👇\n",
        "game_images = [rock, paper, scissors]\n",
        "game_rules = [None, 0, 1, 2, 0]  # The index represents the player's choice and the value represents what it beats\n",
        "\n",
        "import random\n",
        "\n",
        "player_choice_index = int(input(\" What do you choose? Type 0 for Rock, 1 for Paper or 2 for Scissors: \\n\"))\n",
        "if player_choice_index not in [0, 1, 2]:\n",
        "    print(\"Invalid input.\")\n",
        "else:\n",
        "    computer_choice_index = random.randint(0, 2)\n",
        "\n",
        "    print(game_images[computer_choice_index], \"\\nComputer choice: \")\n",
        "    print(game_images[player_choice_index])\n",
        "\n",
        "    if computer_choice_index == game_rules[player_choice_index]:\n",
        "        print(\"You win\")\n",
        "    elif computer_choice_index == player_choice_index:\n",
        "        print(\"Its a draw.\")\n",
        "    else:\n",
        "        print(\"You lose\")\n",
        "\n",
        "print(game_rules[player_choice_index])"
      ]
    },
    {
      "cell_type": "code",
      "source": [],
      "metadata": {
        "id": "fvQOwZCHFVcq"
      },
      "execution_count": 8,
      "outputs": []
    }
  ]
}